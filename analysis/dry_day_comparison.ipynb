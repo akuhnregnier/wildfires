{
 "cells": [
  {
   "cell_type": "code",
   "execution_count": null,
   "metadata": {},
   "outputs": [],
   "source": [
    "%matplotlib inline\n",
    "%load_ext autoreload\n",
    "%autoreload 2"
   ]
  },
  {
   "cell_type": "code",
   "execution_count": null,
   "metadata": {},
   "outputs": [],
   "source": [
    "import logging\n",
    "import logging.config\n",
    "import os\n",
    "import pickle\n",
    "from copy import deepcopy\n",
    "\n",
    "import iris\n",
    "import matplotlib as mpl\n",
    "import matplotlib.pyplot as plt\n",
    "import numpy as np\n",
    "import pandas as pd\n",
    "import statsmodels.api as sm\n",
    "from sklearn.ensemble import RandomForestRegressor\n",
    "from sklearn.metrics import r2_score\n",
    "from sklearn.model_selection import train_test_split\n",
    "from tqdm import tqdm\n",
    "\n",
    "import wildfires.utils as utils\n",
    "from wildfires.analysis.plotting import (\n",
    "    cube_plotting,\n",
    "    map_model_output,\n",
    "    partial_dependence_plot,\n",
    ")\n",
    "from wildfires.analysis.processing import log_map, log_modulus, map_name, vif\n",
    "from wildfires.data.cube_aggregation import *\n",
    "from wildfires.data.datasets import *\n",
    "from wildfires.data.datasets import DATA_DIR, data_map_plot\n",
    "from wildfires.logging_config import LOGGING\n",
    "\n",
    "logger = logging.getLogger(__name__)\n",
    "logging.config.dictConfig(LOGGING)"
   ]
  },
  {
   "cell_type": "code",
   "execution_count": null,
   "metadata": {},
   "outputs": [],
   "source": [
    "normal_size = 9.0\n",
    "normal_coast_linewidth = 0.5\n",
    "dpi = 600"
   ]
  },
  {
   "cell_type": "code",
   "execution_count": null,
   "metadata": {},
   "outputs": [],
   "source": [
    "selection = Datasets() + ERA5_DryDayPeriod() + GSMaP_dry_day_period()\n",
    "selection.show(\"pretty\")\n",
    "\n",
    "min_time, max_time, times_df = dataset_times(selection.datasets)\n",
    "print(times_df.to_string(index=False))\n",
    "# print(times_df.to_latex(index=False))\n",
    "\n",
    "monthly_datasets, mean_datasets, climatology_datasets = prepare_selection(selection)"
   ]
  },
  {
   "cell_type": "code",
   "execution_count": null,
   "metadata": {},
   "outputs": [],
   "source": [
    "# Get land mask.\n",
    "land_mask = ~utils.land_mask(n_lon=1440)\n",
    "\n",
    "# Define a latitude mask which ignores data beyond 60 degrees, as the precipitation data does not extend to those latitudes.\n",
    "lats = mean_datasets.cubes[0].coord(\"latitude\").points\n",
    "lons = mean_datasets.cubes[0].coord(\"longitude\").points\n",
    "\n",
    "latitude_grid = np.meshgrid(lats, lons, indexing=\"ij\")[0]\n",
    "lat_mask = np.abs(latitude_grid) > 60\n",
    "\n",
    "# Make a deep copy so that the original cubes are preserved.\n",
    "lat_land_datasets = mean_datasets.copy(deep=True)\n",
    "\n",
    "for cube in lat_land_datasets.cubes:\n",
    "    cube.data.mask[lat_mask] = True\n",
    "    cube.data.mask[land_mask] = True\n",
    "\n",
    "mpl.rcParams[\"figure.figsize\"] = (11, 6)\n",
    "\n",
    "for dataset in lat_land_datasets:\n",
    "    # cube_plotting(dataset.cubes[0],log=True, title=f\"log Mean Dry Day Period ({dataset.name})\")\n",
    "    cube_plotting(\n",
    "        dataset.cubes[0], log=False, title=f\"Mean Dry Day Period ({dataset.name})\"\n",
    "    )"
   ]
  }
 ],
 "metadata": {
  "kernelspec": {
   "display_name": "Python [conda env:wildfires]",
   "language": "python",
   "name": "conda-env-wildfires-py"
  },
  "language_info": {
   "codemirror_mode": {
    "name": "ipython",
    "version": 3
   },
   "file_extension": ".py",
   "mimetype": "text/x-python",
   "name": "python",
   "nbconvert_exporter": "python",
   "pygments_lexer": "ipython3",
   "version": "3.7.3"
  }
 },
 "nbformat": 4,
 "nbformat_minor": 2
}
