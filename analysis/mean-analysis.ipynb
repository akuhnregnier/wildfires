{
 "cells": [
  {
   "cell_type": "code",
   "execution_count": null,
   "metadata": {},
   "outputs": [],
   "source": [
    "%matplotlib inline\n",
    "from IPython.core.display import display, HTML\n",
    "display(HTML(\"<style>.container { width:100% !important; }</style>\"))\n",
    "import pickle\n",
    "import os\n",
    "import matplotlib.pyplot as plt\n",
    "import matplotlib as mpl\n",
    "import pandas as pd\n",
    "from wildfires.data.datasets import data_map_plot\n",
    "from wildfires.data.datasets import DATA_DIR\n",
    "with open(os.path.join(DATA_DIR, 'mean_cubes.pickle'), 'rb') as f:\n",
    "    mean_cubes = pickle.load(f)\n",
    "print(mean_cubes)\n",
    "# so that analysis below can be replicated for other kinds of cubes\n",
    "cubes = mean_cubes"
   ]
  },
  {
   "cell_type": "code",
   "execution_count": null,
   "metadata": {},
   "outputs": [],
   "source": [
    "land_cube = cubes.extract_strict(iris.Constraint(name='pftNoLand'))\n",
    "land_mask = np.isclose(land_cube.data.data, 1.)\n",
    "fig = data_map_plot(land_mask, name='Land Mask')\n",
    "\n",
    "# remove this entry from the CubeList\n",
    "del cubes[cubes.index(land_cube)]"
   ]
  },
  {
   "cell_type": "code",
   "execution_count": null,
   "metadata": {},
   "outputs": [],
   "source": [
    "for cube in cubes:\n",
    "    fig = data_map_plot(cube)"
   ]
  },
  {
   "cell_type": "code",
   "execution_count": null,
   "metadata": {},
   "outputs": [],
   "source": [
    "from copy import deepcopy\n",
    "# Check that all the cubes have masks\n",
    "assert np.all([hasattr(cube.data, 'mask') for cube in cubes])\n",
    "# Respect the masking of 'monthly burned area' and ignore all others - for all others, replace\n",
    "# masked data with 0.\n",
    "# Thereafter, apply the land_mask, so that only data over land is considered.\n",
    "\n",
    "burned_area_cube = cubes.extract_strict(iris.Constraint(name='monthly burned area'))\n",
    "burned_area_mask = burned_area_cube.data.mask\n",
    "combined_mask = burned_area_mask | land_mask\n",
    "\n",
    "cubes_mod = deepcopy(cubes)\n",
    "assert isinstance(cubes_mod, iris.cube.CubeList)\n",
    "for cube in cubes_mod:\n",
    "    # ignore burned area in this step\n",
    "    if cube.name() != 'monthly burned area':\n",
    "        # Fill data gaps with 0\n",
    "        cube.data.data[cube.data.mask] = 0\n",
    "    # Then apply global combined mask.\n",
    "    cube.data.mask = combined_mask\n",
    "\n",
    "mpl.rcParams['figure.figsize'] = (10, 7)\n",
    "for cube in cubes_mod:\n",
    "    fig = data_map_plot(cube)"
   ]
  },
  {
   "cell_type": "code",
   "execution_count": null,
   "metadata": {},
   "outputs": [],
   "source": [
    "# Check that there aren't any inf's or nan's in the data.\n",
    "for cube in cubes_mod:\n",
    "    assert not np.any(np.isinf(cube.data.data[~cube.data.mask]))\n",
    "    assert not np.any(np.isnan(cube.data.data[~cube.data.mask]))"
   ]
  },
  {
   "cell_type": "code",
   "execution_count": null,
   "metadata": {},
   "outputs": [],
   "source": [
    "lats = cubes_mod[0].coord('latitude').points\n",
    "lons = cubes_mod[1].coord('longitude').points\n",
    "lat_mask = np.meshgrid(lats, lons, indexing='ij')[0] > 60\n",
    "\n",
    "cube = deepcopy(cubes_mod.extract_strict(iris.Constraint(name='precip')))\n",
    " \n",
    "fig = data_map_plot(cube)\n",
    "data = cube.data\n",
    "data.mask[lat_mask] = True\n",
    "fig = data_map_plot(data)\n",
    "\n",
    "cubes_mod2 = deepcopy(cubes_mod)\n",
    "\n",
    "for cube in cubes_mod2:\n",
    "    cube.data.mask[lat_mask] = True"
   ]
  },
  {
   "cell_type": "code",
   "execution_count": null,
   "metadata": {},
   "outputs": [],
   "source": [
    "burned_area_cube = cubes_mod2.extract_strict(iris.Constraint(name='monthly burned area'))\n",
    "endog_data = pd.Series(burned_area_cube.data.data[~burned_area_cube.data.mask])\n",
    "names = []\n",
    "data = []\n",
    "for cube in cubes_mod2:\n",
    "    if cube.name() != 'monthly burned area':\n",
    "        names.append(cube.name())\n",
    "        data.append(cube.data.data[~cube.data.mask].reshape(-1, 1))\n",
    "exog_data = pd.DataFrame(np.hstack(data), columns=names)\n",
    "exog_data['temperature range'] = exog_data['maximum temperature'] - exog_data['minimum temperature']\n",
    "del exog_data['minimum temperature']\n",
    "\n",
    "print(names)\n",
    "\n",
    "# Carry out log transformation for select variables.\n",
    "log_var_names = ['temperature range',\n",
    "                 'dry_days']\n",
    "\n",
    "for name in log_var_names:\n",
    "    mod_data = exog_data[name] + 0.01\n",
    "    assert np.all(mod_data >= (0.01 - 1e-8)), '{:}'.format(name)\n",
    "    exog_data['log ' + name] = np.log(mod_data)\n",
    "    del exog_data[name]\n",
    "\n",
    "# Carry out square root transformation\n",
    "sqrt_var_names = ['Combined Flash Rate Time Series', 'popd']\n",
    "for name in sqrt_var_names:\n",
    "    assert np.all(exog_data[name] >= 0), '{:}'.format(name)\n",
    "    exog_data['sqrt ' + name] = np.sqrt(exog_data[name])\n",
    "    del exog_data[name]"
   ]
  },
  {
   "cell_type": "code",
   "execution_count": null,
   "metadata": {},
   "outputs": [],
   "source": [
    "import statsmodels.api as sm\n",
    "model = sm.GLM(endog_data, exog_data, faimly=sm.families.Binomial())\n",
    "model_results = model.fit()\n",
    "print(model_results.summary())\n",
    "plt.figure(figsize=(12, 9))\n",
    "plt.hexbin(endog_data, model_results.fittedvalues, bins='log')\n",
    "plt.xlabel('real data')\n",
    "plt.ylabel('prediction')\n",
    "plt.colorbar()\n",
    "# plt.savefig('real_vs_prediction.png')\n",
    "\n",
    "global_mask = burned_area_cube.data.mask\n",
    "\n",
    "ba_predicted = np.zeros_like(global_mask, dtype=np.float64)\n",
    "ba_predicted[~global_mask] = model_results.fittedvalues\n",
    "ba_predicted = np.ma.MaskedArray(ba_predicted, mask=global_mask)\n",
    "fig = data_map_plot(\n",
    "        ba_predicted,\n",
    "        name='Predicted Mean Burned Area',\n",
    "        filename='predicted_mean.png',\n",
    "        log=True)\n",
    "\n",
    "ba_data = np.zeros_like(global_mask, dtype=np.float64)\n",
    "ba_data[~global_mask] = endog_data.values\n",
    "ba_data = np.ma.MaskedArray(ba_data, mask=global_mask)\n",
    "fig = data_map_plot(\n",
    "        ba_data,\n",
    "        name='Mean observed burned area (GFEDv4)',\n",
    "        filename='observed_mean_ba.png',\n",
    "        log=True)"
   ]
  },
  {
   "cell_type": "code",
   "execution_count": null,
   "metadata": {},
   "outputs": [],
   "source": [
    "_ = plt.matshow(exog_data.corr())\n",
    "_ = plt.xticks(range(len(exog_data.columns)), exog_data.columns, rotation='vertical')\n",
    "_ = plt.yticks(range(len(exog_data.columns)), exog_data.columns)"
   ]
  }
 ],
 "metadata": {
  "kernelspec": {
   "display_name": "Python 3",
   "language": "python",
   "name": "python3"
  },
  "language_info": {
   "codemirror_mode": {
    "name": "ipython",
    "version": 3
   },
   "file_extension": ".py",
   "mimetype": "text/x-python",
   "name": "python",
   "nbconvert_exporter": "python",
   "pygments_lexer": "ipython3",
   "version": "3.7.3"
  }
 },
 "nbformat": 4,
 "nbformat_minor": 2
}
