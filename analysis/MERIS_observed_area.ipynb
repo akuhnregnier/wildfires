{
 "cells": [
  {
   "cell_type": "code",
   "execution_count": null,
   "metadata": {},
   "outputs": [],
   "source": [
    "from wildfires.analysis.plotting import *\n",
    "from wildfires.data.datasets import *"
   ]
  },
  {
   "cell_type": "code",
   "execution_count": null,
   "metadata": {},
   "outputs": [],
   "source": [
    "dataset = CCI_BurnedArea_MERIS_4_1()\n",
    "observed = dataset.cubes.extract_strict(iris.Constraint(\"fraction of observed area\"))"
   ]
  },
  {
   "cell_type": "code",
   "execution_count": null,
   "metadata": {},
   "outputs": [],
   "source": [
    "cube_plotting(observed.collapsed(\"time\", iris.analysis.MEAN))"
   ]
  }
 ],
 "metadata": {
  "kernelspec": {
   "display_name": "Python [conda env:wildfires]",
   "language": "python",
   "name": "conda-env-wildfires-py"
  }
 },
 "nbformat": 4,
 "nbformat_minor": 2
}
