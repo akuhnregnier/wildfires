{
 "cells": [
  {
   "cell_type": "code",
   "execution_count": null,
   "metadata": {},
   "outputs": [],
   "source": [
    "import warnings\n",
    "\n",
    "import matplotlib as mpl\n",
    "\n",
    "from wildfires.analysis.plotting import *\n",
    "from wildfires.data.cube_aggregation import *\n",
    "from wildfires.data.datasets import *\n",
    "from wildfires.utils import land_mask as get_land_mask\n",
    "from wildfires.utils import match_shape"
   ]
  },
  {
   "cell_type": "code",
   "execution_count": null,
   "metadata": {},
   "outputs": [],
   "source": [
    "warnings.filterwarnings(\"ignore\", \".*Collapsing a non-contiguous coordinate.*\")\n",
    "mpl.rc(\"figure\", figsize=(14, 6))"
   ]
  },
  {
   "cell_type": "code",
   "execution_count": null,
   "metadata": {},
   "outputs": [],
   "source": [
    "monthly_obs, mean_obs, climatology_obs = prepare_selection(\n",
    "    Datasets(CCI_BurnedArea_MERIS_4_1()).select_variables(\"fraction of observed area\")\n",
    ")"
   ]
  },
  {
   "cell_type": "code",
   "execution_count": null,
   "metadata": {},
   "outputs": [],
   "source": [
    "land_mask = ~get_land_mask()\n",
    "mean_obs.cube.data.mask |= match_shape(land_mask, mean_obs.cube.shape)"
   ]
  },
  {
   "cell_type": "markdown",
   "metadata": {},
   "source": [
    "## Mean observed area fraction"
   ]
  },
  {
   "cell_type": "code",
   "execution_count": null,
   "metadata": {},
   "outputs": [],
   "source": [
    "_ = cube_plotting(mean_obs.cube, title=\"Mean Fraction of Observed Area\")"
   ]
  },
  {
   "cell_type": "markdown",
   "metadata": {},
   "source": [
    "## Mean count where observed area fraction >= 80%"
   ]
  },
  {
   "cell_type": "code",
   "execution_count": null,
   "metadata": {},
   "outputs": [],
   "source": [
    "min_thres = 0.8\n",
    "observed_counts = (monthly_obs.cube.data >= min_thres).astype(\"float64\")\n",
    "observed_counts.mask |= match_shape(land_mask, observed_counts.shape)\n",
    "mean_obs_counts = np.ma.mean(observed_counts, axis=0)"
   ]
  },
  {
   "cell_type": "code",
   "execution_count": null,
   "metadata": {},
   "outputs": [],
   "source": [
    "_ = cube_plotting(mean_obs_counts, title=\"Mean Observed Counts >= 80%\")"
   ]
  },
  {
   "cell_type": "markdown",
   "metadata": {},
   "source": [
    "## Before-after comparison of burned area"
   ]
  },
  {
   "cell_type": "code",
   "execution_count": null,
   "metadata": {},
   "outputs": [],
   "source": [
    "mean_ba = prepare_selection(\n",
    "    Datasets(CCI_BurnedArea_MERIS_4_1()).select_variables(\"CCI MERIS BA\"), which=\"mean\"\n",
    ").cube\n",
    "monthly_vars = prepare_selection(\n",
    "    Datasets(CCI_BurnedArea_MERIS_4_1()).select_variables(\n",
    "        (\"CCI MERIS BA\", \"fraction of observed area\")\n",
    "    ),\n",
    "    which=\"monthly\",\n",
    ")\n",
    "monthly_obs = monthly_vars.select_variables(\n",
    "    \"fraction of observed area\", inplace=False\n",
    ").cube\n",
    "monthly_ba = monthly_vars.select_variables(\"CCI MERIS BA\").cube\n",
    "\n",
    "mean_ba.data.mask |= match_shape(land_mask, mean_ba.shape)\n",
    "monthly_ba.data.mask |= match_shape(land_mask, monthly_ba.shape)"
   ]
  },
  {
   "cell_type": "markdown",
   "metadata": {},
   "source": [
    "## Before applying observational fraction mask"
   ]
  },
  {
   "cell_type": "code",
   "execution_count": null,
   "metadata": {},
   "outputs": [],
   "source": [
    "print(\n",
    "    \"Mean BA:\",\n",
    "    mean_ba.collapsed(\n",
    "        (\"latitude\", \"longitude\"),\n",
    "        iris.analysis.MEAN,\n",
    "        weights=iris.analysis.cartography.area_weights(mean_ba),\n",
    "    ).data,\n",
    ")\n",
    "_ = cube_plotting(mean_ba, log=True, title=\"Mean CCI MERIS BA\")"
   ]
  },
  {
   "cell_type": "markdown",
   "metadata": {},
   "source": [
    "## After applying observational fraction mask >= 80%"
   ]
  },
  {
   "cell_type": "code",
   "execution_count": null,
   "metadata": {},
   "outputs": [],
   "source": [
    "min_thres = 0.8\n",
    "observed_mask = monthly_obs.data < min_thres\n",
    "monthly_ba_masked = deepcopy(monthly_ba)\n",
    "monthly_ba_masked.data.mask |= observed_mask\n",
    "\n",
    "mean_ba_masked = monthly_ba_masked.collapsed(\"time\", iris.analysis.MEAN)"
   ]
  },
  {
   "cell_type": "code",
   "execution_count": null,
   "metadata": {},
   "outputs": [],
   "source": [
    "print(\n",
    "    \"Mean BA:\",\n",
    "    mean_ba_masked.collapsed(\n",
    "        (\"latitude\", \"longitude\"),\n",
    "        iris.analysis.MEAN,\n",
    "        weights=iris.analysis.cartography.area_weights(mean_ba_masked),\n",
    "    ).data,\n",
    ")\n",
    "_ = cube_plotting(mean_ba_masked, log=True, title=\"Mean Masked CCI MERIS BA >= 80% Obs\")"
   ]
  },
  {
   "cell_type": "markdown",
   "metadata": {},
   "source": [
    "### Histogram of data values in above plot - determine bin sizing from this?"
   ]
  },
  {
   "cell_type": "code",
   "execution_count": null,
   "metadata": {},
   "outputs": [],
   "source": [
    "_ = plt.hist(\n",
    "    mean_ba_masked.data.data.flatten()[~mean_ba_masked.data.mask.flatten()], bins=100\n",
    ")\n",
    "plt.yscale(\"log\")"
   ]
  }
 ],
 "metadata": {
  "kernelspec": {
   "display_name": "Python [conda env:wildfires]",
   "language": "python",
   "name": "conda-env-wildfires-py"
  }
 },
 "nbformat": 4,
 "nbformat_minor": 2
}
