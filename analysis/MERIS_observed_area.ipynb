{
 "cells": [
  {
   "cell_type": "markdown",
   "metadata": {},
   "source": [
    "# CCI MERIS 4.1\n",
    "\n",
    "## Initialisation\n",
    "\n",
    "Loading modules required for the code below.\n",
    "\n",
    "The CCI MERIS 4.1 observed area dataset is first masked using the land mask."
   ]
  },
  {
   "cell_type": "code",
   "execution_count": null,
   "metadata": {},
   "outputs": [],
   "source": [
    "import logging\n",
    "import logging.config\n",
    "import warnings\n",
    "\n",
    "import matplotlib as mpl\n",
    "from joblib import Parallel, delayed\n",
    "from tqdm import tqdm\n",
    "\n",
    "from wildfires.analysis.plotting import *\n",
    "from wildfires.data.cube_aggregation import *\n",
    "from wildfires.data.datasets import *\n",
    "from wildfires.logging_config import JUPYTER_LOGGING as LOGGING\n",
    "from wildfires.utils import get_ncpus, get_unmasked\n",
    "from wildfires.utils import land_mask as get_land_mask\n",
    "from wildfires.utils import match_shape"
   ]
  },
  {
   "cell_type": "code",
   "execution_count": null,
   "metadata": {},
   "outputs": [],
   "source": [
    "logging.config.dictConfig(LOGGING)\n",
    "warnings.filterwarnings(\"ignore\", \".*Collapsing a non-contiguous coordinate.*\")\n",
    "warnings.filterwarnings(\"ignore\", \".*DEFAULT_SPHERICAL_EARTH_RADIUS*\")\n",
    "mpl.rc(\"figure\", figsize=(14, 6))"
   ]
  },
  {
   "cell_type": "code",
   "execution_count": null,
   "metadata": {},
   "outputs": [],
   "source": [
    "monthly_obs, mean_obs, climatology_obs = prepare_selection(\n",
    "    Datasets(CCI_BurnedArea_MERIS_4_1()).select_variables(\"fraction of observed area\")\n",
    ")"
   ]
  },
  {
   "cell_type": "code",
   "execution_count": null,
   "metadata": {},
   "outputs": [],
   "source": [
    "land_mask = ~get_land_mask()\n",
    "mean_obs.cube.data.mask |= match_shape(land_mask, mean_obs.cube.shape)"
   ]
  },
  {
   "cell_type": "markdown",
   "metadata": {},
   "source": [
    "## Mean observed area fraction"
   ]
  },
  {
   "cell_type": "code",
   "execution_count": null,
   "metadata": {},
   "outputs": [],
   "source": [
    "_ = cube_plotting(mean_obs.cube, title=\"Mean Fraction of Observed Area\")"
   ]
  },
  {
   "cell_type": "markdown",
   "metadata": {},
   "source": [
    "## Number of observations where observed area fraction >= 80%"
   ]
  },
  {
   "cell_type": "code",
   "execution_count": null,
   "metadata": {},
   "outputs": [],
   "source": [
    "min_thres = 0.8\n",
    "observed_counts = (monthly_obs.cube.data >= min_thres).astype(\"float64\")\n",
    "observed_counts.mask |= match_shape(land_mask, observed_counts.shape)\n",
    "sum_obs_counts = np.ma.sum(observed_counts, axis=0)"
   ]
  },
  {
   "cell_type": "code",
   "execution_count": null,
   "metadata": {},
   "outputs": [],
   "source": [
    "init_date = str(monthly_obs.cube.coord(\"time\").cell(0).point).split()[0]\n",
    "fin_date = str(monthly_obs.cube.coord(\"time\").cell(-1).point).split()[0]\n",
    "_ = cube_plotting(\n",
    "    sum_obs_counts,\n",
    "    title=f\"Observed Months >= 80% ({init_date} to {fin_date})\",\n",
    "    label=\"counts\",\n",
    "    boundaries=[0, 2, 4, 20, 60, 75, 83],\n",
    ")"
   ]
  },
  {
   "cell_type": "markdown",
   "metadata": {},
   "source": [
    "## Before-after Comparison of Mean Burned Area\n",
    "\n",
    "The effect of applying the observational fraction mask will be investigated."
   ]
  },
  {
   "cell_type": "code",
   "execution_count": null,
   "metadata": {},
   "outputs": [],
   "source": [
    "mean_ba = prepare_selection(\n",
    "    Datasets(CCI_BurnedArea_MERIS_4_1()).select_variables(\"CCI MERIS BA\"), which=\"mean\"\n",
    ").cube\n",
    "monthly_vars = prepare_selection(\n",
    "    Datasets(CCI_BurnedArea_MERIS_4_1()).select_variables(\n",
    "        (\"CCI MERIS BA\", \"fraction of observed area\")\n",
    "    ),\n",
    "    which=\"monthly\",\n",
    ")\n",
    "monthly_obs = monthly_vars.select_variables(\n",
    "    \"fraction of observed area\", inplace=False\n",
    ").cube\n",
    "monthly_ba = monthly_vars.select_variables(\"CCI MERIS BA\").cube\n",
    "\n",
    "mean_ba.data.mask |= match_shape(land_mask, mean_ba.shape)\n",
    "monthly_ba.data.mask |= match_shape(land_mask, monthly_ba.shape)"
   ]
  },
  {
   "cell_type": "markdown",
   "metadata": {},
   "source": [
    "### No Masking"
   ]
  },
  {
   "cell_type": "code",
   "execution_count": null,
   "metadata": {},
   "outputs": [],
   "source": [
    "mpl.rc(\"figure\", figsize=(20, 10))\n",
    "mean_ba_value = mean_ba.collapsed(\n",
    "    (\"latitude\", \"longitude\"),\n",
    "    iris.analysis.MEAN,\n",
    "    weights=iris.analysis.cartography.area_weights(mean_ba),\n",
    ").data\n",
    "_ = cube_plotting(mean_ba, log=True, title=f\"Mean CCI MERIS BA {mean_ba_value:0.3e}\")"
   ]
  },
  {
   "cell_type": "markdown",
   "metadata": {},
   "source": [
    "### With Observational Fraction Mask >= 80%\n",
    "\n",
    "A substantially higher mean burned area is observed."
   ]
  },
  {
   "cell_type": "code",
   "execution_count": null,
   "metadata": {},
   "outputs": [],
   "source": [
    "mpl.rc(\"figure\", figsize=(20, 10))\n",
    "monthly_ba_masked = CCI_BurnedArea_MERIS_4_1.get_obs_masked_dataset(\n",
    "    \"CCI MERIS BA\", thres=0.8\n",
    ")[\"CCI MERIS BA\"]\n",
    "mean_ba_masked = monthly_ba_masked.collapsed(\"time\", iris.analysis.MEAN)\n",
    "\n",
    "masked_mean_ba_value = mean_ba_masked.collapsed(\n",
    "    (\"latitude\", \"longitude\"),\n",
    "    iris.analysis.MEAN,\n",
    "    weights=iris.analysis.cartography.area_weights(mean_ba_masked),\n",
    ").data\n",
    "\n",
    "_ = cube_plotting(\n",
    "    mean_ba_masked,\n",
    "    log=True,\n",
    "    title=f\"Mean Masked CCI MERIS BA >= 80% Obs {masked_mean_ba_value:0.3e}\",\n",
    ")"
   ]
  },
  {
   "cell_type": "markdown",
   "metadata": {},
   "source": [
    "### Determining Bin Sizing from Histogram of Values Above\n",
    "\n",
    "We want to calculate the edges of bins such that the log map plot of mean burned area values is made more informative. This will be attempted by having data in each bin occupy a uniform proportion of values."
   ]
  },
  {
   "cell_type": "code",
   "execution_count": null,
   "metadata": {},
   "outputs": [],
   "source": [
    "mpl.rc(\"figure\", figsize=(14, 6))\n",
    "\n",
    "source_data = get_unmasked(mean_ba_masked.data)\n",
    "non_zero_source = np.sort(source_data[source_data > 0])\n",
    "\n",
    "plt.hist(non_zero_source, bins=100)\n",
    "plt.ylabel(\"Occurrences\")\n",
    "plt.xlabel(\"Mean BA Fraction\")\n",
    "\n",
    "plt.yscale(\"log\")\n",
    "plt.xscale(\"log\")\n",
    "\n",
    "# Get percentiles. Ignore 0s in this process, and append them later on to the lowest bin.\n",
    "# This is because 0s make up the predominant proportion of values.\n",
    "\n",
    "bin_edges = [0.0] + list(np.percentile(non_zero_source, np.linspace(0, 100, 8)))\n",
    "\n",
    "for bin_edge in bin_edges[1:]:\n",
    "    plt.axvline(bin_edge, c=\"C4\")\n",
    "\n",
    "# Trying out the new bin edges.\n",
    "\n",
    "mpl.rc(\"figure\", figsize=(20, 10))\n",
    "_ = cube_plotting(\n",
    "    mean_ba_masked,\n",
    "    log=True,\n",
    "    title=f\"Mean Masked CCI MERIS BA >= 80% Obs {masked_mean_ba_value:0.3e}\",\n",
    "    boundaries=bin_edges,\n",
    ")"
   ]
  }
 ],
 "metadata": {
  "kernelspec": {
   "display_name": "Python [conda env:wildfires]",
   "language": "python",
   "name": "conda-env-wildfires-py"
  }
 },
 "nbformat": 4,
 "nbformat_minor": 2
}
