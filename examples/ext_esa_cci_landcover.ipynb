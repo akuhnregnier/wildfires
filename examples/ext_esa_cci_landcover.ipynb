{
 "cells": [
  {
   "cell_type": "code",
   "execution_count": null,
   "metadata": {},
   "outputs": [],
   "source": [
    "import warnings\n",
    "\n",
    "import cartopy.crs as ccrs\n",
    "import iris\n",
    "import matplotlib.pyplot as plt\n",
    "import numpy as np\n",
    "\n",
    "from wildfires.analysis import cube_plotting\n",
    "from wildfires.data import ESA_CCI_Landcover_PFT, Ext_ESA_CCI_Landcover_PFT\n",
    "from wildfires.logging_config import enable_logging\n",
    "from wildfires.utils import get_land_mask, match_shape\n",
    "\n",
    "warnings.filterwarnings(\"ignore\", \"Collapsing a non-contiguous coordinate.*time'.\")\n",
    "\n",
    "enable_logging(mode=\"jupyter\")"
   ]
  },
  {
   "cell_type": "code",
   "execution_count": null,
   "metadata": {},
   "outputs": [],
   "source": [
    "def mask_water(cube):\n",
    "    assert isinstance(cube.data, np.ndarray)\n",
    "    if not hasattr(cube.data, \"mask\"):\n",
    "        cube.data = np.ma.MaskedArray(\n",
    "            cube.data, mask=np.zeros_like(cube.data, dtype=np.bool_)\n",
    "        )\n",
    "    cube.data.mask |= ~match_shape(get_land_mask(), cube.shape)\n",
    "    return cube"
   ]
  },
  {
   "cell_type": "code",
   "execution_count": null,
   "metadata": {},
   "outputs": [],
   "source": [
    "lc = ESA_CCI_Landcover_PFT()\n",
    "ext_lc = Ext_ESA_CCI_Landcover_PFT()\n",
    "lc, ext_lc"
   ]
  },
  {
   "cell_type": "code",
   "execution_count": null,
   "metadata": {},
   "outputs": [],
   "source": [
    "lc.cubes"
   ]
  },
  {
   "cell_type": "code",
   "execution_count": null,
   "metadata": {},
   "outputs": [],
   "source": [
    "ext_lc.cubes"
   ]
  },
  {
   "cell_type": "code",
   "execution_count": null,
   "metadata": {},
   "outputs": [],
   "source": [
    "fig_kwargs = dict(figsize=(12, 3.5), dpi=200)"
   ]
  },
  {
   "cell_type": "markdown",
   "metadata": {},
   "source": [
    "### Comparing average PFTs (note the different temporal extents)"
   ]
  },
  {
   "cell_type": "code",
   "execution_count": null,
   "metadata": {},
   "outputs": [],
   "source": [
    "for pft in lc.variable_names(\"raw\"):\n",
    "    fig, axes = plt.subplots(\n",
    "        1, 2, subplot_kw=dict(projection=ccrs.Robinson()), **fig_kwargs\n",
    "    )\n",
    "    for ax, lc_dataset in zip(axes, (lc, ext_lc)):\n",
    "        ax.set_title(lc_dataset.name)\n",
    "        cube_plotting(\n",
    "            mask_water(lc_dataset.cubes.extract_cube(iris.Constraint(pft))),\n",
    "            ax=ax,\n",
    "            title=pft,\n",
    "        )"
   ]
  },
  {
   "cell_type": "markdown",
   "metadata": {},
   "source": [
    "### Comparing maximum |temporal differences| per location and PFT"
   ]
  },
  {
   "cell_type": "code",
   "execution_count": null,
   "metadata": {},
   "outputs": [],
   "source": [
    "for pft in lc.variable_names(\"raw\"):\n",
    "    fig, axes = plt.subplots(\n",
    "        1, 2, subplot_kw=dict(projection=ccrs.Robinson()), **fig_kwargs\n",
    "    )\n",
    "    for ax, lc_dataset in zip(axes, (lc, ext_lc)):\n",
    "        pft_cube = lc_dataset.cubes.extract_cube(iris.Constraint(pft))\n",
    "        pft_cube = pft_cube[0].copy(\n",
    "            data=np.max(np.abs(np.diff(pft_cube.data, axis=0)), axis=0)\n",
    "        )\n",
    "        ax.set_title(lc_dataset.name)\n",
    "        cube_plotting(mask_water(pft_cube), ax=ax, title=pft)"
   ]
  },
  {
   "cell_type": "markdown",
   "metadata": {},
   "source": [
    "### Explicitly compare differences between the datasets"
   ]
  },
  {
   "cell_type": "code",
   "execution_count": null,
   "metadata": {},
   "outputs": [],
   "source": [
    "for pft in lc.variable_names(\"raw\"):\n",
    "    ext_cube, cube = (\n",
    "        ext_lc.cubes.extract_cube(iris.Constraint(\"TreeAll\"))[:24],\n",
    "        lc.cubes.extract_cube(iris.Constraint(\"TreeAll\")),\n",
    "    )\n",
    "    # Ensure the time coordinates are aligned.\n",
    "    assert (\n",
    "        ext_cube.coord(\"time\").cell(0).point.year\n",
    "        == cube.coord(\"time\").cell(0).point.year\n",
    "    )\n",
    "\n",
    "    max_diffs = np.max(ext_cube.data - cube.data, axis=0)\n",
    "    min_diffs = np.min(ext_cube.data - cube.data, axis=0)\n",
    "    max_abs_diffs = np.where(-min_diffs > max_diffs, min_diffs, max_diffs)\n",
    "\n",
    "    mean_diffs = np.mean(ext_cube.data - cube.data, axis=0)\n",
    "\n",
    "    plot_kwargs = dict(title=\"\", cmap=\"RdBu_r\", cmap_midpoint=0, cmap_symmetric=True)\n",
    "\n",
    "    fig, axes = plt.subplots(\n",
    "        1, 2, subplot_kw=dict(projection=ccrs.Robinson()), **fig_kwargs\n",
    "    )\n",
    "\n",
    "    fig.suptitle(f\"{pft} ({ext_lc.name} - {lc.name})\")\n",
    "\n",
    "    axes[0].set_title(\"Mean Diffs\")\n",
    "    cube_plotting(mask_water(cube[0].copy(data=mean_diffs)), ax=axes[0], **plot_kwargs)\n",
    "\n",
    "    axes[1].set_title(\"Max Abs Diffs\")\n",
    "    cube_plotting(\n",
    "        mask_water(cube[0].copy(data=max_abs_diffs)), ax=axes[1], **plot_kwargs\n",
    "    )"
   ]
  }
 ],
 "metadata": {
  "kernelspec": {
   "display_name": "Python [conda env:wildfires]",
   "language": "python",
   "name": "conda-env-wildfires-py"
  }
 },
 "nbformat": 4,
 "nbformat_minor": 2
}
