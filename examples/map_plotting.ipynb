{
 "cells": [
  {
   "cell_type": "markdown",
   "metadata": {},
   "source": [
    "# Plotting Examples"
   ]
  },
  {
   "cell_type": "code",
   "execution_count": null,
   "metadata": {},
   "outputs": [],
   "source": [
    "import matplotlib as mpl\n",
    "\n",
    "from wildfires.analysis import *\n",
    "from wildfires.data import *\n",
    "from wildfires.logging_config import enable_logging\n",
    "\n",
    "enable_logging(\"jupyter\")\n",
    "mpl.rc(\"figure\", figsize=(10, 5))"
   ]
  },
  {
   "cell_type": "code",
   "execution_count": null,
   "metadata": {},
   "outputs": [],
   "source": [
    "gfed4 = GFEDv4()\n",
    "month_ba = gfed4[\"GFED4 BA\"][0]\n",
    "_ = cube_plotting(month_ba, log=True)"
   ]
  },
  {
   "cell_type": "markdown",
   "metadata": {},
   "source": [
    "## Let's focus only on the land"
   ]
  },
  {
   "cell_type": "code",
   "execution_count": null,
   "metadata": {},
   "outputs": [],
   "source": [
    "from dateutil.relativedelta import relativedelta\n",
    "\n",
    "from wildfires.utils import get_land_mask\n",
    "\n",
    "_ = cube_plotting(\n",
    "    gfed4.get_monthly_dataset(start=gfed4.min_time, end=gfed4.min_time).apply_masks(\n",
    "        ~get_land_mask()\n",
    "    )[\"GFED4 BA\"],\n",
    "    log=True,\n",
    ")"
   ]
  },
  {
   "cell_type": "markdown",
   "metadata": {},
   "source": [
    "## Temporal averages are also handled"
   ]
  },
  {
   "cell_type": "code",
   "execution_count": null,
   "metadata": {},
   "outputs": [],
   "source": [
    "_ = cube_plotting(\n",
    "    gfed4.get_monthly_dataset(\n",
    "        start=gfed4.min_time, end=gfed4.min_time + relativedelta(months=5)\n",
    "    ).apply_masks(~get_land_mask())[\"GFED4 BA\"],\n",
    "    log=True,\n",
    ")"
   ]
  },
  {
   "cell_type": "markdown",
   "metadata": {},
   "source": [
    "## Different regions can also be selected\n",
    "\n",
    "They can also be centred on the resulting map."
   ]
  },
  {
   "cell_type": "code",
   "execution_count": null,
   "metadata": {},
   "outputs": [],
   "source": [
    "ba_dataset = gfed4.get_monthly_dataset(\n",
    "    start=gfed4.min_time, end=gfed4.min_time + relativedelta(months=5)\n",
    ").apply_masks(~get_land_mask())\n",
    "regions = regions_GFED()\n",
    "for region in (\"EURO\", \"SHAF\", \"BONA\"):\n",
    "    region_mask = regions.data == regions.attributes[\"region_codes\"][region]\n",
    "    region_dataset = ba_dataset.copy(deep=True)\n",
    "    region_dataset.apply_masks(~region_mask)\n",
    "    cube_plotting(region_dataset.cube, select_valid=True)"
   ]
  },
  {
   "cell_type": "markdown",
   "metadata": {},
   "source": [
    "### Using `select_valid=True`, as much horizontal whitespace as possible will be trimmed from the maps"
   ]
  },
  {
   "cell_type": "code",
   "execution_count": null,
   "metadata": {},
   "outputs": [],
   "source": [
    "region_mask = (\n",
    "    (regions.data == regions.attributes[\"region_codes\"][\"AUST\"])\n",
    "    | (regions.data == regions.attributes[\"region_codes\"][\"EQAS\"])\n",
    "    | (regions.data == regions.attributes[\"region_codes\"][\"SHSA\"])\n",
    "    | (regions.data == regions.attributes[\"region_codes\"][\"BONA\"])\n",
    ")\n",
    "region_dataset = ba_dataset.copy(deep=True)\n",
    "region_dataset.apply_masks(~region_mask)\n",
    "_ = cube_plotting(region_dataset.cube, select_valid=True)"
   ]
  }
 ],
 "metadata": {
  "kernelspec": {
   "display_name": "Python [conda env:wildfires] *",
   "language": "python",
   "name": "conda-env-wildfires-py"
  }
 },
 "nbformat": 4,
 "nbformat_minor": 4
}
