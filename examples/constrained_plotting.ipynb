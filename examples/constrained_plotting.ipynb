{
 "cells": [
  {
   "cell_type": "markdown",
   "metadata": {},
   "source": [
    "# Illustrate Constrained Plotting Using Dummy Data"
   ]
  },
  {
   "cell_type": "code",
   "execution_count": null,
   "metadata": {},
   "outputs": [],
   "source": [
    "import matplotlib as mpl\n",
    "import numpy as np\n",
    "import pandas as pd\n",
    "\n",
    "from wildfires.analysis import constrained_map_plot, cube_plotting\n",
    "\n",
    "mpl.rc(\"figure\", figsize=(10, 4))"
   ]
  },
  {
   "cell_type": "code",
   "execution_count": null,
   "metadata": {},
   "outputs": [],
   "source": [
    "N = 100\n",
    "data = np.linspace(0, 1, N).reshape(-1, 1) + np.linspace(0, 1, 2 * N).reshape(1, -1)\n",
    "\n",
    "# Create the mask.\n",
    "np.random.seed(1)\n",
    "mask = np.random.random(data.shape) < 0.7\n",
    "X = pd.DataFrame({\"a\": data[~mask]})\n",
    "\n",
    "# Use the mask to go from the column in `X` back to the map.\n",
    "masked_data = np.ma.MaskedArray(\n",
    "    np.empty(mask.shape), mask=np.ones(mask.shape, dtype=np.bool_)\n",
    ")\n",
    "masked_data[~mask] = X[\"a\"].values\n",
    "\n",
    "cube_plotting(data, title=\"Data\")\n",
    "_ = cube_plotting(masked_data, title=\"Masked Data\")"
   ]
  },
  {
   "cell_type": "code",
   "execution_count": null,
   "metadata": {},
   "outputs": [],
   "source": [
    "constrained_map_plot({\"a\": (None,)}, X, mask, plot_variable=\"a\")"
   ]
  },
  {
   "cell_type": "code",
   "execution_count": null,
   "metadata": {},
   "outputs": [],
   "source": [
    "constrained_map_plot({\"a\": (1.3, 2)}, X, mask, plot_variable=\"a\")"
   ]
  },
  {
   "cell_type": "code",
   "execution_count": null,
   "metadata": {},
   "outputs": [],
   "source": [
    "constrained_map_plot({\"a\": (1.7, None)}, X, mask, plot_variable=\"a\", select_valid=True)"
   ]
  },
  {
   "cell_type": "code",
   "execution_count": null,
   "metadata": {},
   "outputs": [],
   "source": [
    "constrained_map_plot({\"a\": (1, 1.1)}, X, mask, plot_variable=\"a\", select_valid=True)"
   ]
  },
  {
   "cell_type": "code",
   "execution_count": null,
   "metadata": {},
   "outputs": [],
   "source": [
    "constrained_map_plot(\n",
    "    ({\"a\": (1.7, None)}, {\"a\": (1, 1.1)}), X, mask, plot_variable=\"a\", select_valid=True\n",
    ")"
   ]
  }
 ],
 "metadata": {
  "kernelspec": {
   "display_name": "Python [conda env:wildfires] *",
   "language": "python",
   "name": "conda-env-wildfires-py"
  }
 },
 "nbformat": 4,
 "nbformat_minor": 4
}
