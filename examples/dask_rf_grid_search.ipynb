{
 "cells": [
  {
   "cell_type": "markdown",
   "metadata": {},
   "source": [
    "# Dask RF GridSearchCV"
   ]
  },
  {
   "cell_type": "code",
   "execution_count": null,
   "metadata": {},
   "outputs": [],
   "source": [
    "from time import time\n",
    "\n",
    "import numpy as np\n",
    "from dask.distributed import Client\n",
    "\n",
    "from wildfires.dask_cx1 import DaskRandomForestRegressor, fit_dask_rf_grid_search_cv"
   ]
  },
  {
   "cell_type": "markdown",
   "metadata": {},
   "source": [
    "## Establish the Dask Client"
   ]
  },
  {
   "cell_type": "code",
   "execution_count": null,
   "metadata": {},
   "outputs": [],
   "source": [
    "client = Client(\n",
    "    n_workers=2, threads_per_worker=1\n",
    ")  # Create a LocalCluster for demonstration purposes.\n",
    "client"
   ]
  },
  {
   "cell_type": "markdown",
   "metadata": {},
   "source": [
    "## Set up the grid search parameters and data"
   ]
  },
  {
   "cell_type": "code",
   "execution_count": null,
   "metadata": {},
   "outputs": [],
   "source": [
    "# Define the common training and test data.\n",
    "np.random.seed(1)\n",
    "X = np.random.random((int(1e3), 10))\n",
    "y = X[:, 0] + X[:, 1] + np.random.random((X.shape[0],))\n",
    "\n",
    "default_param_dict = {\n",
    "    \"random_state\": 1,\n",
    "    \"bootstrap\": True,\n",
    "    \"max_features\": \"auto\",\n",
    "}"
   ]
  },
  {
   "cell_type": "markdown",
   "metadata": {},
   "source": [
    "## Carry out the grid search using our custom implementation"
   ]
  },
  {
   "cell_type": "code",
   "execution_count": null,
   "metadata": {},
   "outputs": [],
   "source": [
    "# Define the parameter space.\n",
    "parameters_RF = {\n",
    "    \"n_estimators\": [500],\n",
    "    \"max_depth\": [6],\n",
    "    \"min_samples_split\": [2],\n",
    "    \"min_samples_leaf\": [1, 5, 10],\n",
    "}\n",
    "\n",
    "start = time()\n",
    "results = fit_dask_rf_grid_search_cv(\n",
    "    DaskRandomForestRegressor(**default_param_dict),\n",
    "    X,\n",
    "    y,\n",
    "    n_splits=5,\n",
    "    param_grid=parameters_RF,\n",
    "    client=client,\n",
    "    verbose=True,\n",
    "    return_train_score=True,\n",
    "    refit=False,\n",
    "    local_n_jobs=2,\n",
    ")\n",
    "print(\n",
    "    f\"Time per n_estimators {(time() - start) / len(parameters_RF['n_estimators']):0.1f} s\"\n",
    ")"
   ]
  },
  {
   "cell_type": "code",
   "execution_count": null,
   "metadata": {},
   "outputs": [],
   "source": [
    "# Define the parameter space.\n",
    "parameters_RF = {\n",
    "    \"n_estimators\": [500, 501, 502, 503],\n",
    "    \"max_depth\": [6],\n",
    "    \"min_samples_split\": [2],\n",
    "    \"min_samples_leaf\": [1, 5, 10],\n",
    "}\n",
    "\n",
    "start = time()\n",
    "results = fit_dask_rf_grid_search_cv(\n",
    "    DaskRandomForestRegressor(**default_param_dict),\n",
    "    X,\n",
    "    y,\n",
    "    n_splits=5,\n",
    "    param_grid=parameters_RF,\n",
    "    client=client,\n",
    "    verbose=True,\n",
    "    return_train_score=True,\n",
    "    refit=False,\n",
    "    local_n_jobs=2,\n",
    ")\n",
    "print(\n",
    "    f\"Time per n_estimators {(time() - start) / len(parameters_RF['n_estimators']):0.1f} s\"\n",
    ")"
   ]
  }
 ],
 "metadata": {
  "kernelspec": {
   "display_name": "Python [conda env:wildfires] *",
   "language": "python",
   "name": "conda-env-wildfires-py"
  }
 },
 "nbformat": 4,
 "nbformat_minor": 4
}
