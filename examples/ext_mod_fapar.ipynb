{
 "cells": [
  {
   "cell_type": "code",
   "execution_count": null,
   "metadata": {},
   "outputs": [],
   "source": [
    "import warnings\n",
    "from datetime import datetime\n",
    "\n",
    "import cartopy.crs as ccrs\n",
    "import iris\n",
    "import matplotlib.pyplot as plt\n",
    "import numpy as np\n",
    "from tqdm import tqdm\n",
    "\n",
    "from wildfires.analysis import cube_plotting\n",
    "from wildfires.data import (\n",
    "    Ext_MOD15A2H_fPAR,\n",
    "    MOD15A2H_LAI_fPAR,\n",
    "    dataset_times,\n",
    "    dummy_lat_lon_cube,\n",
    ")\n",
    "from wildfires.logging_config import enable_logging\n",
    "from wildfires.utils import ensure_datetime, get_land_mask, match_shape\n",
    "\n",
    "warnings.filterwarnings(\"ignore\", \"Collapsing a non-contiguous coordinate.*\")\n",
    "\n",
    "enable_logging(mode=\"jupyter\")"
   ]
  },
  {
   "cell_type": "code",
   "execution_count": null,
   "metadata": {},
   "outputs": [],
   "source": [
    "def mask_water(cube):\n",
    "    assert isinstance(cube.data, np.ndarray)\n",
    "    if not hasattr(cube.data, \"mask\"):\n",
    "        cube.data = np.ma.MaskedArray(\n",
    "            cube.data, mask=np.zeros_like(cube.data, dtype=np.bool_)\n",
    "        )\n",
    "    cube.data.mask |= ~match_shape(get_land_mask(), cube.shape)\n",
    "    return cube"
   ]
  },
  {
   "cell_type": "code",
   "execution_count": null,
   "metadata": {},
   "outputs": [],
   "source": [
    "ext_mod = Ext_MOD15A2H_fPAR()\n",
    "mod = MOD15A2H_LAI_fPAR()"
   ]
  },
  {
   "cell_type": "code",
   "execution_count": null,
   "metadata": {},
   "outputs": [],
   "source": [
    "min_time, max_time, time_df = dataset_times((ext_mod, mod))\n",
    "# Discard anything but the year and month.\n",
    "min_time = datetime(min_time.year, min_time.month, 1)\n",
    "max_time = datetime(max_time.year, max_time.month, 1)\n",
    "time_df"
   ]
  },
  {
   "cell_type": "code",
   "execution_count": null,
   "metadata": {},
   "outputs": [],
   "source": [
    "fapar_name = \"Fraction of Absorbed Photosynthetically Active Radiation\""
   ]
  },
  {
   "cell_type": "code",
   "execution_count": null,
   "metadata": {},
   "outputs": [],
   "source": [
    "mod_fapar = mod.get_monthly_data(start=min_time, end=max_time).extract_cube(\n",
    "    iris.Constraint(fapar_name)\n",
    ")\n",
    "ext_mod_fapar = ext_mod.get_monthly_data(start=min_time, end=max_time).extract_cube(\n",
    "    iris.Constraint(fapar_name)\n",
    ")"
   ]
  },
  {
   "cell_type": "code",
   "execution_count": null,
   "metadata": {},
   "outputs": [],
   "source": [
    "mod_fapar.units = \"1\""
   ]
  },
  {
   "cell_type": "code",
   "execution_count": null,
   "metadata": {},
   "outputs": [],
   "source": [
    "ext_mod_fapar"
   ]
  },
  {
   "cell_type": "code",
   "execution_count": null,
   "metadata": {},
   "outputs": [],
   "source": [
    "mod_fapar"
   ]
  },
  {
   "cell_type": "code",
   "execution_count": null,
   "metadata": {},
   "outputs": [],
   "source": [
    "fig_kwargs = dict(figsize=(17, 4), dpi=200)"
   ]
  },
  {
   "cell_type": "code",
   "execution_count": null,
   "metadata": {},
   "outputs": [],
   "source": [
    "for i in tqdm(range(mod_fapar.shape[0])):\n",
    "    fig, axes = plt.subplots(\n",
    "        1, 3, subplot_kw=dict(projection=ccrs.Robinson()), **fig_kwargs\n",
    "    )\n",
    "    for ax, cube, title in zip(\n",
    "        axes,\n",
    "        (\n",
    "            mod_fapar[i],\n",
    "            ext_mod_fapar[i],\n",
    "            dummy_lat_lon_cube(ext_mod_fapar[i].data - mod_fapar[i].data),\n",
    "        ),\n",
    "        (\"MOD\", \"Ext MOD\", \"Ext MOD - MOD\"),\n",
    "    ):\n",
    "        ax.set_title(title)\n",
    "        kwargs = {}\n",
    "        if \"-\" in title:\n",
    "            kwargs = {\n",
    "                **kwargs,\n",
    "                **dict(\n",
    "                    cmap=\"RdBu_r\",\n",
    "                    cmap_midpoint=0,\n",
    "                    cmap_symmetric=True,\n",
    "                    vmin_vmax_percentiles=(2, 98),\n",
    "                ),\n",
    "            }\n",
    "\n",
    "        cube_plotting(\n",
    "            mask_water(cube),\n",
    "            ax=ax,\n",
    "            title=f\"{ensure_datetime(mod_fapar[i].coord('time').cell(0).point):%Y-%m}\",\n",
    "            **kwargs,\n",
    "        )"
   ]
  }
 ],
 "metadata": {
  "kernelspec": {
   "display_name": "Python [conda env:wildfires]",
   "language": "python",
   "name": "conda-env-wildfires-py"
  }
 },
 "nbformat": 4,
 "nbformat_minor": 2
}
